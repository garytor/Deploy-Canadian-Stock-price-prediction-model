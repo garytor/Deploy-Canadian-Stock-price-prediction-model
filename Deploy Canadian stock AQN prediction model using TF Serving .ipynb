{
 "cells": [
  {
   "cell_type": "markdown",
   "id": "c624d4f0",
   "metadata": {},
   "source": [
    "Model Deployment: Predict 7 days of close stock price for ticker AQN.TO using TF Serving\\\n",
    "Data source: Yahoo Finance\\\n",
    "Created by: Gary Sampson DatumSam AI"
   ]
  },
  {
   "cell_type": "code",
   "execution_count": 1,
   "id": "28bc105b",
   "metadata": {},
   "outputs": [],
   "source": [
    "import yfinance as yf\n",
    "import pandas as pd"
   ]
  },
  {
   "cell_type": "code",
   "execution_count": 2,
   "id": "cccc2cae",
   "metadata": {},
   "outputs": [
    {
     "name": "stdout",
     "output_type": "stream",
     "text": [
      "<class 'pandas.core.frame.DataFrame'>\n",
      "DatetimeIndex: 3217 entries, 2010-01-04 to 2022-10-27\n",
      "Data columns (total 2 columns):\n",
      " #   Column   Non-Null Count  Dtype  \n",
      "---  ------   --------------  -----  \n",
      " 0   AQN.TO   3217 non-null   float64\n",
      " 1   ^GSPTSE  3217 non-null   float64\n",
      "dtypes: float64(2)\n",
      "memory usage: 75.4 KB\n"
     ]
    }
   ],
   "source": [
    "# Download Algonquin Power & Utilities Corp. and S&P/TSX composite index from January 1,2010 to October 28, 2022\n",
    "df = yf.download(['AQN.TO', '^GSPTSE'], start='2010-01-01', end='2022-10-28', \n",
    "                    progress=False, auto_adjust=True)\n",
    "df1 = df['Close']\n",
    "df1.info()"
   ]
  },
  {
   "cell_type": "code",
   "execution_count": 3,
   "id": "2bb56f2e",
   "metadata": {},
   "outputs": [],
   "source": [
    "# make a copy of dataset df1\n",
    "df2 = df1.copy()"
   ]
  },
  {
   "cell_type": "code",
   "execution_count": 4,
   "id": "c02996e5",
   "metadata": {},
   "outputs": [],
   "source": [
    "# Original dataset did not have weekend and holiday data. Impute with forward fill data to produce timeseries dataset \n",
    "Date_new = pd.date_range(start='2010-01-04', end='2022-10-28', freq='D')\n",
    "df2 = df2.reindex(Date_new, method='ffill' )"
   ]
  },
  {
   "cell_type": "code",
   "execution_count": 5,
   "id": "cbea27aa",
   "metadata": {},
   "outputs": [],
   "source": [
    "# Split the dataset into train, validate and test sets\n",
    "df_train = df2[\"2010-01-04\":\"2019-12-31\"]\n",
    "df_valid = df2[\"2021-01-01\":\"2022-09-01\"]\n",
    "df_test = df2[\"2022-09-01\":]"
   ]
  },
  {
   "cell_type": "code",
   "execution_count": 6,
   "id": "cd8c55d8",
   "metadata": {},
   "outputs": [],
   "source": [
    "# Get the mean and standard deviation for the train set \n",
    "train_mean = df_train.mean()\n",
    "train_std = df_train.std()"
   ]
  },
  {
   "cell_type": "code",
   "execution_count": 7,
   "id": "ccacbe36",
   "metadata": {},
   "outputs": [],
   "source": [
    "# Get one test instance\n",
    "X_new =  df_test[:30].to_numpy().reshape(1, df_test[:30].shape[0], df_test[:30].shape[1])"
   ]
  },
  {
   "cell_type": "markdown",
   "id": "6d56c26b",
   "metadata": {},
   "source": [
    "#### Querying TF Serving through the REST API"
   ]
  },
  {
   "cell_type": "code",
   "execution_count": 60,
   "id": "71689fff",
   "metadata": {},
   "outputs": [],
   "source": [
    "import json\n",
    "\n",
    "# Create the query\n",
    "request_json = json.dumps({\n",
    "    \"signature_name\": \"serving_default\",\n",
    "    \"instances\": X_new.tolist(),\n",
    "})"
   ]
  },
  {
   "cell_type": "code",
   "execution_count": 61,
   "id": "1669191a",
   "metadata": {},
   "outputs": [
    {
     "data": {
      "text/plain": [
       "'{\"signature_name\": \"serving_default\", \"instances\": [[[17.29204559326172, 19142.69921875], [17.23459815979004, 19270.900390625], [17.23459815979004, 19270.900390625], [17.23459815979004, 19270.900390625], [17.23459815979004, 19270.900390625], [17.11969757080078, 19088.19921875], [17.263320922851562, 19241.400390625], [17.244173049926758, 19413.0], [17.14842414855957, 19773.30078125], [17.14842414855957, 19773.30078125], [17.14842414855957, 19773.30078125], [17.320770263671875, 19987.19921875], [17.033527374267578, 19645.400390625], [17.01437759399414, 19726.099609375], [16.985652923583984, 19560.19921875], [16.784584045410156, 19385.900390625], [16.784584045410156, 19385.900390625], [16.784584045410156, 19385.900390625], [16.775009155273438, 19562.400390625], [16.382442474365234, 19368.69921875], [16.411165237426758, 19184.5], [16.382442474365234, 19002.69921875], [16.248394012451172, 18481.0], [16.248394012451172, 18481.0], [16.248394012451172, 18481.0], [15.683483123779297, 18327.0], [15.357941627502441, 18307.900390625], [15.385170936584473, 18648.900390625], [14.743311882019043, 18441.80078125], [14.675235748291016, 18444.19921875]]]}'"
      ]
     },
     "execution_count": 61,
     "metadata": {},
     "output_type": "execute_result"
    }
   ],
   "source": [
    "request_json"
   ]
  },
  {
   "cell_type": "code",
   "execution_count": 73,
   "id": "09c12760",
   "metadata": {},
   "outputs": [],
   "source": [
    "import requests\n",
    "\n",
    "# TF Serving's API to make predictions\n",
    "server_url = \"http://localhost:8501/v1/models/best_multivariate_rnn:predict\"\n",
    "response_rest = requests.post(server_url, data=request_json)\n",
    "response_rest.raise_for_status()  # raise an exception in case of error\n",
    "response_rest = response_rest.json()"
   ]
  },
  {
   "cell_type": "code",
   "execution_count": 74,
   "id": "85b0e2fc",
   "metadata": {},
   "outputs": [
    {
     "data": {
      "text/plain": [
       "array([2.33, 2.35, 2.37, 2.46, 2.43])"
      ]
     },
     "execution_count": 74,
     "metadata": {},
     "output_type": "execute_result"
    }
   ],
   "source": [
    "import numpy as np\n",
    "\n",
    "y_predict_rest = np.array(response_rest[\"predictions\"])[0, -1][-5:]\n",
    "y_predict_rest.round(2)"
   ]
  },
  {
   "cell_type": "code",
   "execution_count": 76,
   "id": "89d1653f",
   "metadata": {},
   "outputs": [
    {
     "name": "stdout",
     "output_type": "stream",
     "text": [
      "AQN predict from Oct 3 -7,2022: [15.08342985 15.16264613 15.2364106  15.53123115 15.43134676]\n"
     ]
    }
   ],
   "source": [
    "# de-nornalise the prediction from Oct 3 - 7, 2022\n",
    "print('AQN predict from Oct 3 -7,2022:',((y_predict_rest*train_std[0]) + train_mean[0]))"
   ]
  },
  {
   "cell_type": "code",
   "execution_count": 14,
   "id": "791eee8a",
   "metadata": {},
   "outputs": [
    {
     "name": "stdout",
     "output_type": "stream",
     "text": [
      "Actual AQN close stock price from Oct 3 -7, 2022 2022-10-03    15.161493\n",
      "2022-10-04    15.424071\n",
      "2022-10-05    15.025341\n",
      "2022-10-06    14.480734\n",
      "2022-10-07    14.334856\n",
      "Freq: D, Name: AQN.TO, dtype: float64\n"
     ]
    }
   ],
   "source": [
    "print('Actual AQN close stock price from Oct 3 -7, 2022', df_test[\"2022-10-03\":\"2022-10-07\"]['AQN.TO'])"
   ]
  },
  {
   "cell_type": "markdown",
   "id": "4afc3875",
   "metadata": {},
   "source": [
    "#### Querying TF Serving through the gRPC API"
   ]
  },
  {
   "cell_type": "code",
   "execution_count": 77,
   "id": "8ebefe9e",
   "metadata": {},
   "outputs": [
    {
     "name": "stdout",
     "output_type": "stream",
     "text": [
      "WARNING:tensorflow:No training configuration found in save file, so the model was *not* compiled. Compile it manually.\n"
     ]
    }
   ],
   "source": [
    "import tensorflow as tf\n",
    "best_model = tf.keras.models.load_model('c:/users/garys/Documents/Time_Series_Forecasting/best_multivariate_rnn/0003')"
   ]
  },
  {
   "cell_type": "code",
   "execution_count": 79,
   "id": "dd6c4da7",
   "metadata": {},
   "outputs": [],
   "source": [
    "from tensorflow_serving.apis.predict_pb2 import PredictRequest\n",
    "model_name = \"best_multivariate_rnn\"\n",
    "\n",
    "request_grpc = PredictRequest()\n",
    "request_grpc.model_spec.name = model_name\n",
    "request_grpc.model_spec.signature_name = \"serving_default\"\n",
    "input_name = best_model.input_names[0]  # best_model from SavedModel format\n",
    "request_grpc.inputs[input_name].CopyFrom(tf.make_tensor_proto(X_new.tolist()))"
   ]
  },
  {
   "cell_type": "code",
   "execution_count": 80,
   "id": "fc89c39f",
   "metadata": {},
   "outputs": [],
   "source": [
    "import grpc\n",
    "from tensorflow_serving.apis import prediction_service_pb2\n",
    "\n",
    "channel = grpc.insecure_channel('localhost:8500')\n",
    "predict_service = prediction_service_pb2.PredictionServiceStub(channel)\n",
    "response_grpc = predict_service.Predict(request, timeout=10.0)"
   ]
  },
  {
   "cell_type": "code",
   "execution_count": 81,
   "id": "ad8cd386",
   "metadata": {},
   "outputs": [
    {
     "data": {
      "text/plain": [
       "array([2.3310993, 2.3535478, 2.3744514, 2.4579985, 2.429693 ],\n",
       "      dtype=float32)"
      ]
     },
     "execution_count": 81,
     "metadata": {},
     "output_type": "execute_result"
    }
   ],
   "source": [
    "output_name = best_model.output_names[0]\n",
    "outputs_proto = response_grpc.outputs[output_name]\n",
    "y_predict_grpc = tf.make_ndarray(outputs_proto)[0, -1][-5:]\n",
    "y_predict_grpc"
   ]
  },
  {
   "cell_type": "code",
   "execution_count": 84,
   "id": "d1f00bcf",
   "metadata": {},
   "outputs": [
    {
     "name": "stdout",
     "output_type": "stream",
     "text": [
      "AQN predict from Oct 3 - 7,2022: [15.083429 15.162645 15.23641  15.531231 15.431347]\n"
     ]
    }
   ],
   "source": [
    "# de-nornalise the prediction from Oct 3 - 7, 2022\n",
    "print('AQN predict from Oct 3 - 7,2022:',((y_predict_grpc*train_std[0]) + train_mean[0]))"
   ]
  },
  {
   "cell_type": "markdown",
   "id": "6d07c780",
   "metadata": {},
   "source": [
    "Prediction results are the same for querying through the REST API and gRPC API but it is recommended to use gRPC API when transferring large amounts of data."
   ]
  }
 ],
 "metadata": {
  "kernelspec": {
   "display_name": "Python 3 (ipykernel)",
   "language": "python",
   "name": "python3"
  },
  "language_info": {
   "codemirror_mode": {
    "name": "ipython",
    "version": 3
   },
   "file_extension": ".py",
   "mimetype": "text/x-python",
   "name": "python",
   "nbconvert_exporter": "python",
   "pygments_lexer": "ipython3",
   "version": "3.9.13"
  }
 },
 "nbformat": 4,
 "nbformat_minor": 5
}
